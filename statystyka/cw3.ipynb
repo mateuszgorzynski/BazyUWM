{
 "cells": [
  {
   "cell_type": "code",
   "execution_count": 3,
   "metadata": {},
   "outputs": [
    {
     "name": "stdout",
     "output_type": "stream",
     "text": [
      "Zadanie 1:\n",
      "T-statistic: -0.8724891121311197\n",
      "P-value: 0.3839931090277108\n",
      "Nie ma podstaw do odrzucenia hipotezy zerowej.\n"
     ]
    }
   ],
   "source": [
    "import numpy as np\n",
    "import pandas as pd\n",
    "from scipy.stats import ttest_1samp\n",
    "\n",
    "np.random.seed(42)\n",
    "sample = np.random.normal(loc=2, scale=30, size=200)\n",
    "\n",
    "t_stat, p_value = ttest_1samp(sample, 2.5)\n",
    "alpha = 0.05\n",
    "\n",
    "print(\"Zadanie 1:\")\n",
    "print(\"T-statistic:\", t_stat)\n",
    "print(\"P-value:\", p_value)\n",
    "\n",
    "if p_value < alpha:\n",
    "    print(\"Odrzucamy hipotezę zerową - istnieją istotne różnice.\")\n",
    "else:\n",
    "    print(\"Nie ma podstaw do odrzucenia hipotezy zerowej.\")\n"
   ]
  },
  {
   "cell_type": "code",
   "execution_count": 6,
   "metadata": {},
   "outputs": [
    {
     "data": {
      "text/html": [
       "<div>\n",
       "<style scoped>\n",
       "    .dataframe tbody tr th:only-of-type {\n",
       "        vertical-align: middle;\n",
       "    }\n",
       "\n",
       "    .dataframe tbody tr th {\n",
       "        vertical-align: top;\n",
       "    }\n",
       "\n",
       "    .dataframe thead th {\n",
       "        text-align: right;\n",
       "    }\n",
       "</style>\n",
       "<table border=\"1\" class=\"dataframe\">\n",
       "  <thead>\n",
       "    <tr style=\"text-align: right;\">\n",
       "      <th></th>\n",
       "      <th>mies</th>\n",
       "      <th>rok</th>\n",
       "      <th>pepsi</th>\n",
       "      <th>fanta</th>\n",
       "      <th>żywiec</th>\n",
       "      <th>okocim</th>\n",
       "      <th>regionalne</th>\n",
       "      <th>cola</th>\n",
       "      <th>lech</th>\n",
       "    </tr>\n",
       "  </thead>\n",
       "  <tbody>\n",
       "    <tr>\n",
       "      <th>0</th>\n",
       "      <td>1</td>\n",
       "      <td>2001</td>\n",
       "      <td>108447</td>\n",
       "      <td>43302</td>\n",
       "      <td>186385</td>\n",
       "      <td>54301</td>\n",
       "      <td>45065</td>\n",
       "      <td>227013</td>\n",
       "      <td>56306</td>\n",
       "    </tr>\n",
       "    <tr>\n",
       "      <th>1</th>\n",
       "      <td>2</td>\n",
       "      <td>2001</td>\n",
       "      <td>105439</td>\n",
       "      <td>46711</td>\n",
       "      <td>168782</td>\n",
       "      <td>68131</td>\n",
       "      <td>43933</td>\n",
       "      <td>221115</td>\n",
       "      <td>67212</td>\n",
       "    </tr>\n",
       "    <tr>\n",
       "      <th>2</th>\n",
       "      <td>3</td>\n",
       "      <td>2001</td>\n",
       "      <td>111675</td>\n",
       "      <td>36029</td>\n",
       "      <td>172186</td>\n",
       "      <td>63104</td>\n",
       "      <td>46663</td>\n",
       "      <td>222812</td>\n",
       "      <td>67398</td>\n",
       "    </tr>\n",
       "    <tr>\n",
       "      <th>3</th>\n",
       "      <td>4</td>\n",
       "      <td>2001</td>\n",
       "      <td>113232</td>\n",
       "      <td>33659</td>\n",
       "      <td>172445</td>\n",
       "      <td>50871</td>\n",
       "      <td>45195</td>\n",
       "      <td>238631</td>\n",
       "      <td>57100</td>\n",
       "    </tr>\n",
       "    <tr>\n",
       "      <th>4</th>\n",
       "      <td>5</td>\n",
       "      <td>2001</td>\n",
       "      <td>110274</td>\n",
       "      <td>40853</td>\n",
       "      <td>174526</td>\n",
       "      <td>67924</td>\n",
       "      <td>47926</td>\n",
       "      <td>222963</td>\n",
       "      <td>65001</td>\n",
       "    </tr>\n",
       "  </tbody>\n",
       "</table>\n",
       "</div>"
      ],
      "text/plain": [
       "   mies   rok   pepsi  fanta  żywiec  okocim  regionalne    cola   lech\n",
       "0     1  2001  108447  43302  186385   54301       45065  227013  56306\n",
       "1     2  2001  105439  46711  168782   68131       43933  221115  67212\n",
       "2     3  2001  111675  36029  172186   63104       46663  222812  67398\n",
       "3     4  2001  113232  33659  172445   50871       45195  238631  57100\n",
       "4     5  2001  110274  40853  174526   67924       47926  222963  65001"
      ]
     },
     "execution_count": 6,
     "metadata": {},
     "output_type": "execute_result"
    }
   ],
   "source": [
    "df = pd.read_csv('napoje.csv', delimiter=';')\n",
    "df.head()\n"
   ]
  },
  {
   "cell_type": "code",
   "execution_count": 8,
   "metadata": {},
   "outputs": [
    {
     "name": "stdout",
     "output_type": "stream",
     "text": [
      "Lech = 61091.348958333336 (powinno być 60500) \n",
      "Cola = 226389.46875 (powinno być 222000) \n",
      "Piwo regionalne = 48668.036458333336 (powinno być 43500)\n"
     ]
    }
   ],
   "source": [
    "lech_mean = df['lech'].mean()\n",
    "cola_mean = df['cola'].mean()\n",
    "regionalne_mean = df['regionalne'].mean()\n",
    "\n",
    "print(f'Lech = {lech_mean} (powinno być 60500) \\nCola = {cola_mean} (powinno być 222000) \\nPiwo regionalne = {regionalne_mean} (powinno być 43500)')"
   ]
  },
  {
   "cell_type": "code",
   "execution_count": 9,
   "metadata": {},
   "outputs": [
    {
     "name": "stdout",
     "output_type": "stream",
     "text": [
      "rok: Statystyka=0.9462482333183289, P-value=1.3102297771183657e-06\n",
      "pepsi: Statystyka=0.9912384748458862, P-value=0.2968809902667999\n",
      "fanta: Statystyka=0.9894830584526062, P-value=0.17036965489387512\n",
      "żywiec: Statystyka=0.9913601875305176, P-value=0.3080885708332062\n",
      "okocim: Statystyka=0.9875098466873169, P-value=0.08890535682439804\n",
      "regionalne: Statystyka=0.936504602432251, P-value=1.8769230791804148e-07\n",
      "cola: Statystyka=0.993564248085022, P-value=0.5694407224655151\n",
      "lech: Statystyka=0.9936927556991577, P-value=0.5875554084777832\n"
     ]
    }
   ],
   "source": [
    "from scipy.stats import shapiro\n",
    "\n",
    "normality_test_results = {}\n",
    "for column in df.columns[1:]:\n",
    "    stat, p_value = shapiro(df[column])\n",
    "    normality_test_results[column] = {'statistic': stat, 'p_value': p_value}\n",
    "\n",
    "for variable, result in normality_test_results.items():\n",
    "    print(f\"{variable}: Statystyka={result['statistic']}, P-value={result['p_value']}\")\n"
   ]
  },
  {
   "cell_type": "code",
   "execution_count": 11,
   "metadata": {},
   "outputs": [
    {
     "name": "stdout",
     "output_type": "stream",
     "text": [
      "P-value dla okocim – lech: 0.4057078093583595\n",
      "P-value dla fanta – regionalne: 1.097001288015355e-24\n",
      "P-value dla cola – pepsi: 0.0\n"
     ]
    }
   ],
   "source": [
    "from scipy.stats import ttest_ind\n",
    "\n",
    "t_stat_okocim_lech, p_value_okocim_lech = ttest_ind(df['okocim'], df['lech'])\n",
    "\n",
    "t_stat_fanta_regionalne, p_value_fanta_regionalne = ttest_ind(df['fanta'], df['regionalne'])\n",
    "\n",
    "t_stat_cola_pepsi, p_value_cola_pepsi = ttest_ind(df['cola'], df['pepsi'])\n",
    "\n",
    "print(\"P-value dla okocim – lech:\", p_value_okocim_lech)\n",
    "print(\"P-value dla fanta – regionalne:\", p_value_fanta_regionalne)\n",
    "print(\"P-value dla cola – pepsi:\", p_value_cola_pepsi)\n"
   ]
  },
  {
   "cell_type": "code",
   "execution_count": 13,
   "metadata": {},
   "outputs": [
    {
     "name": "stdout",
     "output_type": "stream",
     "text": [
      "Wartość p-value dla okocim – lech: 0.442971451029742\n",
      "Wartość p-value dla żywiec – fanta: 0.11158448782952231\n",
      "Wartość p-value dla regionalne – cola: 3.4610443460281524e-28\n"
     ]
    }
   ],
   "source": [
    "from scipy.stats import bartlett\n",
    "\n",
    "bartlett_okocim_lech = bartlett(df['okocim'], df['lech'])\n",
    "\n",
    "bartlett_zywiec_fanta = bartlett(df['żywiec'], df['fanta'])\n",
    "\n",
    "bartlett_regionalne_cola = bartlett(df['regionalne'], df['cola'])\n",
    "\n",
    "print(\"Wartość p-value dla okocim – lech:\", bartlett_okocim_lech.pvalue)\n",
    "print(\"Wartość p-value dla żywiec – fanta:\", bartlett_zywiec_fanta.pvalue)\n",
    "print(\"Wartość p-value dla regionalne – cola:\", bartlett_regionalne_cola.pvalue)\n"
   ]
  },
  {
   "cell_type": "code",
   "execution_count": 14,
   "metadata": {},
   "outputs": [
    {
     "name": "stdout",
     "output_type": "stream",
     "text": [
      "-3.5977780582718273\n",
      "0.0016000242362201897\n"
     ]
    }
   ],
   "source": [
    "regionalne_2001 = df[df['rok'] == 2001]['regionalne']\n",
    "regionalne_2015 = df[df['rok'] == 2015]['regionalne']\n",
    "\n",
    "t_stat, p_value = ttest_ind(regionalne_2001, regionalne_2015)\n",
    "\n",
    "print(t_stat)\n",
    "print(p_value)\n"
   ]
  },
  {
   "cell_type": "code",
   "execution_count": 19,
   "metadata": {},
   "outputs": [
    {
     "name": "stdout",
     "output_type": "stream",
     "text": [
      "Cola - przed reklamą 226389.46875, po reklamie 226457.66666666666\n",
      "Fanta - przed reklamą 43395.59375, po reklamie 42626.5\n",
      "Pepsi - przed reklamą 111414.69270833333, po reklamie 109203.83333333333\n"
     ]
    }
   ],
   "source": [
    "df_reklama = pd.read_csv('napoje_po_reklamie.csv', delimiter=';')\n",
    "\n",
    "cola_mean = df['cola'].mean()\n",
    "fanta_mean = df['fanta'].mean()\n",
    "pepsi_mean = df['pepsi'].mean()\n",
    "\n",
    "cola_mean_ad = df_reklama['cola'].mean()\n",
    "fanta_mean_ad = df_reklama['fanta'].mean()\n",
    "pepsi_mean_ad = df_reklama['pepsi'].mean()\n",
    "\n",
    "print(f'Cola - przed reklamą {cola_mean}, po reklamie {cola_mean_ad}')\n",
    "print(f'Fanta - przed reklamą {fanta_mean}, po reklamie {fanta_mean_ad}')\n",
    "print(f'Pepsi - przed reklamą {pepsi_mean}, po reklamie {pepsi_mean_ad}')"
   ]
  }
 ],
 "metadata": {
  "kernelspec": {
   "display_name": "base",
   "language": "python",
   "name": "python3"
  },
  "language_info": {
   "codemirror_mode": {
    "name": "ipython",
    "version": 3
   },
   "file_extension": ".py",
   "mimetype": "text/x-python",
   "name": "python",
   "nbconvert_exporter": "python",
   "pygments_lexer": "ipython3",
   "version": "3.11.5"
  }
 },
 "nbformat": 4,
 "nbformat_minor": 2
}
